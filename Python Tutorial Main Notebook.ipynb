{
 "cells": [
  {
   "cell_type": "markdown",
   "metadata": {
    "slideshow": {
     "slide_type": "slide"
    }
   },
   "source": [
    "<div class=\"alert alert-block alert-info\">\n",
    "<font color='Purple'>\n",
    "    \n",
    "# Python Tutorial Basics Till Object Oriented Programming \n",
    "\n",
    "</font>\n",
    "</div>"
   ]
  },
  {
   "cell_type": "markdown",
   "metadata": {
    "slideshow": {
     "slide_type": "slide"
    }
   },
   "source": [
    "<style>img{float:left;}</style> \n",
    "<img src = \"ab.jpg\" >\n",
    "\n",
    "<font color='Purple'> <b><i> \"If you can't explain it to a six year old, <br> you don't understand it yourself.\" Albert Einstein </i> </b> </font>"
   ]
  },
  {
   "cell_type": "markdown",
   "metadata": {
    "slideshow": {
     "slide_type": "slide"
    }
   },
   "source": [
    "<div class=\"alert alert-block alert-info\">\n",
    "<font color='Purple'>\n",
    "    \n",
    "*__Welcome Note:__* <br>\n",
    "This notebook is all about Python language, form the basic terminologies, syntax and till Object Oriented Concepts. The code snips along with explanation will help you learn the concepts hand in hand.<br> Happy reading! <br>\n",
    "Cheers, <br> \n",
    "*Arun Narayanan (arunnaray).* \n",
    "\n",
    "</font>\n",
    "</div>"
   ]
  },
  {
   "cell_type": "markdown",
   "metadata": {
    "slideshow": {
     "slide_type": "slide"
    }
   },
   "source": [
    "<div class=\"alert alert-block alert-info\">\n",
    "<font color='Purple'>\n",
    "<b><i>  Environment:Python 3 <br>\n",
    "Author:  Arun Kumar Narayanan </b> <br>\n",
    "    \n",
    "<img src = \"python_logo.png\" >\n",
    "</font>\n",
    "</div>"
   ]
  },
  {
   "cell_type": "markdown",
   "metadata": {
    "slideshow": {
     "slide_type": "slide"
    }
   },
   "source": [
    "<div class=\"alert alert-block alert-info\">\n",
    "<font color='Purple'>\n",
    "\n",
    "## Python Overview\n",
    "\n",
    "- Python is a general-purpose interpreted, interactive, object-oriented, and high-level programming language.\n",
    "\n",
    "- It was created by <b> Guido van Rossum.</b>\n",
    "\n",
    "- Python is Interpreted: Python is processed at runtime by the interpreter. You do not need to compile your program before executing it. This is similar to PERL and PHP.\n",
    "\n",
    " \n",
    "</font>\n",
    "</div>"
   ]
  },
  {
   "cell_type": "markdown",
   "metadata": {
    "slideshow": {
     "slide_type": "subslide"
    }
   },
   "source": [
    "<div class=\"alert alert-block alert-info\">\n",
    "<font color='Purple'>\n",
    "\n",
    "- Python is Interactive: You can actually sit at a Python prompt and interact with the interpreter directly to write your programs.\n",
    "\n",
    "- Python is Object-Oriented: Python supports Object-Oriented style or technique of programming that encapsulates code within objects.\n",
    "\n",
    " \n",
    "</font>\n",
    "</div>"
   ]
  },
  {
   "cell_type": "markdown",
   "metadata": {
    "slideshow": {
     "slide_type": "slide"
    }
   },
   "source": [
    "<div class=\"alert alert-block alert-info\">\n",
    "<font color='Purple'>\n",
    "\n",
    "## Why Python?\n",
    "\n",
    "<img src = \"whyp.jpeg\" >\n",
    "\n",
    "\n",
    "\n",
    "\n",
    "</font>\n",
    "</div>"
   ]
  },
  {
   "cell_type": "markdown",
   "metadata": {
    "slideshow": {
     "slide_type": "subslide"
    }
   },
   "source": [
    "<div class=\"alert alert-block alert-info\">\n",
    "<font color='Purple'>\n",
    "    \n",
    "    \n",
    "<img src = \"computer-languages.jpg\" >\n",
    "\n",
    "\n",
    "</font>\n",
    "</div>"
   ]
  },
  {
   "cell_type": "markdown",
   "metadata": {
    "slideshow": {
     "slide_type": "subslide"
    }
   },
   "source": [
    "<div class=\"alert alert-block alert-info\">\n",
    "<font color='Purple'>\n",
    "        \n",
    "- Readable and Maintainable Code\n",
    "- Compatible with Major Platforms and Systems\n",
    "- Robust Standard Library\n",
    "- Many Open Source Frameworks and Tools\n",
    "- Simplify Complex Software Development\n",
    "- Adopt Test Driven Development\n",
    "\n",
    "</font>\n",
    "</div>"
   ]
  },
  {
   "cell_type": "markdown",
   "metadata": {
    "slideshow": {
     "slide_type": "slide"
    }
   },
   "source": [
    "<div class=\"alert alert-block alert-info\">\n",
    "<font color='Purple'>\n",
    "        \n",
    "## Installation and set-up\n",
    "\n",
    "- Download file from www.python.org \n",
    "\n",
    "- Environment Variable setup \n",
    "- To add the Python directory to the path for a particular session \n",
    "- In Windows, at the command prompt − type `path %path%;C:\\Python` and press Enter.\n",
    "\n",
    "\n",
    "</font>\n",
    "</div>"
   ]
  },
  {
   "attachments": {
    "image.png": {
     "image/png": "[encoded data removed]"
    }
   },
   "cell_type": "markdown",
   "metadata": {
    "slideshow": {
     "slide_type": "slide"
    }
   },
   "source": [
    "<div class=\"alert alert-block alert-info\">\n",
    "<font color='Purple'>\n",
    "        \n",
    "## My First Python Script.\n",
    "\n",
    "- File extension is .py and compiled file extension .pyc\n",
    "- Python Interactive shell\n",
    "- Programs get structured through indentation, this means that code blocks are defined by their indentation.\n",
    "\n",
    "![image.png](attachment:image.png)\n",
    "\n",
    "</font>\n",
    "</div>"
   ]
  },
  {
   "cell_type": "markdown",
   "metadata": {
    "slideshow": {
     "slide_type": "slide"
    }
   },
   "source": [
    "\n",
    "<div class=\"alert alert-block alert-info\">\n",
    "<font color='Purple'>\n",
    "        \n",
    "## Variables\n",
    "\n",
    "- A variable is a way of referring to a memory location used by a computer program.\n",
    "\n",
    "- The name of a variable is an identifier.\n",
    "\n",
    "- No identifier can have the same name as one of the Python keywords:\n",
    "\n",
    "- and, as, assert, break, class, continue, def, del, elif, else, except, exec, finally, for, from, global, if, import, in, is, lambda, not, or, pass, print, raise, return, try, while, with, yield\n",
    "\n",
    "\n",
    "\n",
    "</font>\n",
    "</div>"
   ]
  },
  {
   "cell_type": "markdown",
   "metadata": {
    "slideshow": {
     "slide_type": "slide"
    }
   },
   "source": [
    "<div class=\"alert alert-block alert-info\">\n",
    "<font color='Purple'>\n",
    "    \n",
    "## Naming Identifiers of Variables\n",
    "- The start character can be the underscore \"_\" or a capital or lower case letter.\n",
    "- The letters following the start character can be anything which is permitted as a start character plus the digits.\n",
    "- Just a warning for Windows-spoilt users: Identifiers are case-sensitive!\n",
    "- Python keywords are not allowed as identifier names!\n",
    "    \n",
    "</font>\n",
    "</div>\n"
   ]
  },
  {
   "cell_type": "markdown",
   "metadata": {
    "slideshow": {
     "slide_type": "slide"
    }
   },
   "source": [
    "<div class=\"alert alert-block alert-info\">\n",
    "<font color='Purple'>\n",
    "    \n",
    "## Operators\n",
    "\n",
    "\n",
    "</font>\n",
    "</div>"
   ]
  },
  {
   "cell_type": "code",
   "execution_count": 36,
   "metadata": {
    "slideshow": {
     "slide_type": "subslide"
    }
   },
   "outputs": [
    {
     "data": {
      "text/html": [
       "<table>\n",
       "<tbody>\n",
       "<tr><td>Operator            </td><td>Description                                 </td><td>                                                      </td></tr>\n",
       "<tr><td>+ , -               </td><td>Addition                                    </td><td>Subtraction                                           </td></tr>\n",
       "<tr><td>*, %                </td><td>Multiplication                              </td><td>Modulo                                                </td></tr>\n",
       "<tr><td>/                   </td><td>Division                                    </td><td>Floor division (with out Decimal Points) in Python 2.x</td></tr>\n",
       "<tr><td>//                  </td><td>Truncation Division (with decimal points)   </td><td>                                                      </td></tr>\n",
       "<tr><td>+x, -x              </td><td>Unary minus and Unary plus (Algebraic signs)</td><td>                                                      </td></tr>\n",
       "<tr><td>**                  </td><td>Exponentiation                              </td><td>                                                      </td></tr>\n",
       "<tr><td>or, and, not        </td><td>Boolean Or, Boolean And, Boolean Not        </td><td>                                                      </td></tr>\n",
       "<tr><td>in                  </td><td>Element of                                  </td><td>                                                      </td></tr>\n",
       "<tr><td><, <=, >, >=, !=, ==</td><td>The usual comparison operators              </td><td>                                                      </td></tr>\n",
       "<tr><td>|, &, ^             </td><td>Bitwise Or, Bitwise And, Bitwise XOR        </td><td>                                                      </td></tr>\n",
       "<tr><td><<, >>              </td><td>Shift Operators                             </td><td>                                                      </td></tr>\n",
       "</tbody>\n",
       "</table>"
      ],
      "text/plain": [
       "<IPython.core.display.HTML object>"
      ]
     },
     "metadata": {},
     "output_type": "display_data"
    }
   ],
   "source": [
    "from IPython.display import HTML, display\n",
    "import tabulate\n",
    "table = [['Operator','Description'],['+ , -','Addition', 'Subtraction'],['*, %','Multiplication', 'Modulo'],['/','Division', 'Floor division (with out Decimal Points) in Python 2.x'],['//', 'Truncation Division (with decimal points)'],['+x, -x' ,'Unary minus and Unary plus (Algebraic signs)'],['**', 'Exponentiation'],['or, and, not' ,'Boolean Or, Boolean And, Boolean Not'],['in',\"Element of\"],['<, <=, >, >=, !=, == ','The usual comparison operators'],['|, &, ^' ,'Bitwise Or, Bitwise And, Bitwise XOR'],['<<, >> ','Shift Operators']]\n",
    "display(HTML(tabulate.tabulate(table, tablefmt='html')))"
   ]
  },
  {
   "cell_type": "markdown",
   "metadata": {
    "slideshow": {
     "slide_type": "slide"
    }
   },
   "source": [
    "<div class=\"alert alert-block alert-info\">\n",
    "<font color='Purple'>\n",
    "\n",
    "## Python Data types.\n",
    "\n",
    "- Python Numbers\n",
    "\n",
    "- Python Strings\n",
    "\n",
    "- Python Lists\n",
    "\n",
    "- Python Tuples\n",
    "\n",
    "- Python Dictionary \n",
    "\n",
    "- Python Sets \n",
    "\n",
    "</font>\n",
    "</div>"
   ]
  },
  {
   "cell_type": "markdown",
   "metadata": {
    "slideshow": {
     "slide_type": "slide"
    }
   },
   "source": [
    "<div class=\"alert alert-block alert-info\">\n",
    "<font color='Purple'>\n",
    "    \n",
    "## Python Numbers\n",
    "    \n",
    "- Number data types store numeric values.\n",
    "- Python supports four different numerical types \n",
    "- `int` (signed integers): Integers are positive or negative whole numbers with no decimal point.\n",
    "- `float` (floating point real values):Floats represent real numbers and are written with a decimal point dividing the integer and fractional parts.\n",
    "- complex (complex numbers) : are of the form `a + bJ`, where a and b are floats and J (or j) represents the square root of -1\n",
    "\n",
    "\n",
    "</font>\n",
    "</div>"
   ]
  },
  {
   "cell_type": "markdown",
   "metadata": {
    "slideshow": {
     "slide_type": "subslide"
    }
   },
   "source": [
    "<div class=\"alert alert-block alert-info\">\n",
    "<font color='Purple'> \n",
    "    \n",
    "## Mathematical Functions\n",
    "\n",
    "- `abs(x)`\tThe absolute value of x: the (positive) distance between x and zero.\n",
    "- `ceil(x)`\tThe ceiling of x: the smallest integer not less than x\n",
    "- `floor(x)`\tThe floor of x: the largest integer not greater than x\n",
    "- `exp(x)`\tThe exponential of x: ex\n",
    "- `fabs(x)`\tThe absolute value of x.\n",
    "- `log(x)`\tThe natural logarithm of x, for x> 0\n",
    "\n",
    "\n",
    "\n",
    "</font>\n",
    "</div>"
   ]
  },
  {
   "cell_type": "markdown",
   "metadata": {
    "slideshow": {
     "slide_type": "subslide"
    }
   },
   "source": [
    "<div class=\"alert alert-block alert-info\">\n",
    "<font color='Purple'> \n",
    "\n",
    "## Mathematical Functions\n",
    "\n",
    "- `log10(x)`\tThe base-10 logarithm of x for x> 0 .\n",
    "- `max(x1, x2,...)`\tThe largest of its arguments: the value closest to positive infinity\n",
    "- `min(x1, x2,...)`\tThe smallest of its arguments: the value closest to negative infinity\n",
    "- `modf(x)`\tThe fractional and integer parts of x in a two-item tuple. Both parts have the same sign as x. The integer part is returned as a float.\n",
    "- `pow(x, y)`\tThe value of x**y.\n",
    "- `round(x [,n])`\tx rounded to n digits from the decimal point. Python rounds away from zero as a tie-breaker: round(0.5) is 1.0 and round(-0.5) is -1.0.\n",
    "- `sqrt(x)`\tThe square root of x for x > 0\n",
    "\n",
    "\n",
    "</font>\n",
    "</div>"
   ]
  },
  {
   "cell_type": "markdown",
   "metadata": {
    "slideshow": {
     "slide_type": "subslide"
    }
   },
   "source": [
    "<div class=\"alert alert-block alert-info\">\n",
    "<font color='Purple'>\n",
    "    \n",
    "## Number Type Conversion\n",
    "    \n",
    "- `int(x)` to convert x to a plain integer.\n",
    "\n",
    "- `long(x)` to convert x to a long integer.\n",
    "\n",
    "- `float(x)` to convert x to a floating-point number.\n",
    "\n",
    "- `complex(x)` to convert x to a complex number with real part x and imaginary part zero.\n",
    "\n",
    "- `complex(x, y)` to convert x and y to a complex number with real part x and imaginary part y. x and y are numeric expressions\n",
    "\n",
    "\n",
    "\n",
    "</font>\n",
    "</div>"
   ]
  },
  {
   "cell_type": "markdown",
   "metadata": {
    "slideshow": {
     "slide_type": "slide"
    }
   },
   "source": [
    "<div class=\"alert alert-block alert-info\">\n",
    "<font color='Purple'>\n",
    "    \n",
    "## Python Strings\n",
    "\n",
    "- String is sequence of Unicode characters. We can use single quotes or double quotes to represent strings. \n",
    "- Multi-line strings can be denoted using triple quotes, `'''` or` \"\"\"`.\n",
    "- Python does not support a character type; these are treated as strings of length one, thus also considered a substring.\n",
    "- To access substrings, use the square brackets for slicing along with the index or indices to obtain \n",
    "\n",
    "\n",
    "</font>\n",
    "</div>"
   ]
  },
  {
   "cell_type": "markdown",
   "metadata": {
    "slideshow": {
     "slide_type": "subslide"
    }
   },
   "source": [
    "<div class=\"alert alert-block alert-info\">\n",
    "<font color='Purple'> \n",
    "\n",
    "## Escape Characters\n",
    "\n",
    "- `\\b`\tBackspace\n",
    "- `\\n`\tNewline\n",
    "- `\\t`    Tab\n",
    "- `\\v`    Vertical tab\n",
    "\n",
    "\n",
    "</font>\n",
    "</div>"
   ]
  },
  {
   "cell_type": "markdown",
   "metadata": {
    "slideshow": {
     "slide_type": "subslide"
    }
   },
   "source": [
    "<div class=\"alert alert-block alert-info\">\n",
    "<font color='Purple'>\n",
    "\n",
    "## String Special Operators\n",
    "\n",
    "\n",
    "- `+`\tConcatenation - Adds values on either side of the operator\t\n",
    "   - `a + b` will give HelloPython\n",
    "- `*`\tRepetition - Creates new strings, concatenating multiple copies of the same string\n",
    "   - `a*2 `will give `-HelloHello`\n",
    "- `[]`\tSlice - Gives the character from the given index\t\n",
    "   - `a[1]` will give `e`\n",
    "- `[ : ]`\tRange Slice - Gives the characters from the given range\t\n",
    "   - `a[1:4]` will give ell\n",
    "- `in\t` Membership - Returns true if a character exists in the given string\t\n",
    "   - `H in a `will give `1`\n",
    "- `not in`\tMembership - Returns true if a character does not exist in the given string\n",
    "   - `M not in `a will give `1`\n",
    "\n",
    "\n",
    "\n",
    "</font>\n",
    "</div>"
   ]
  },
  {
   "cell_type": "markdown",
   "metadata": {
    "slideshow": {
     "slide_type": "subslide"
    }
   },
   "source": [
    "<div class=\"alert alert-block alert-info\">\n",
    "<font color='Purple'> \n",
    "    \n",
    "## Built-in String Methods\n",
    "    \n",
    "    \n",
    "- `str.count(sub, start= 0,end=len(string))`\n",
    "- `str.center(width, 'fillchar')`\n",
    "- `str.capitalize()`\n",
    "- `str.isupper()`\n",
    "- `str.endswith(suffix[, start[, end]])`\n",
    "- `str.expandtabs(tabsize=8)`\n",
    "- `str.find(str, beg=0, end=len(string))`\n",
    "\n",
    "\n",
    "\n",
    "\n",
    "</font>\n",
    "</div>"
   ]
  },
  {
   "cell_type": "markdown",
   "metadata": {
    "slideshow": {
     "slide_type": "subslide"
    }
   },
   "source": [
    "<div class=\"alert alert-block alert-info\">\n",
    "<font color='Purple'> \n",
    "    \n",
    "## Built-in String Methods\n",
    "    \n",
    "    \n",
    "- `str.index(str, beg=0 end=len(string))`\n",
    "- `str.isalnum()`\n",
    "- `str.isalpha()`\n",
    "- `str.isdigit()`\n",
    "- `str.islower()`\n",
    "- `str.isnumeric()`\n",
    "- `str.isspace()`\n",
    "- `str.istitle()`\n",
    "- `str.isupper()`\n",
    "\n",
    "\n",
    "\n",
    "</font>\n",
    "</div>"
   ]
  },
  {
   "cell_type": "code",
   "execution_count": 81,
   "metadata": {
    "slideshow": {
     "slide_type": "subslide"
    }
   },
   "outputs": [
    {
     "data": {
      "text/plain": [
       "False"
      ]
     },
     "execution_count": 81,
     "metadata": {},
     "output_type": "execute_result"
    }
   ],
   "source": [
    "a = 'as1111tra'\n",
    "a.isalpha()\n",
    "#a.lower()"
   ]
  },
  {
   "cell_type": "markdown",
   "metadata": {
    "slideshow": {
     "slide_type": "slide"
    }
   },
   "source": [
    "<div class=\"alert alert-block alert-info\">\n",
    "<font color='Purple'> \n",
    "\n",
    "## Lists\n",
    "\n",
    "- Data structures are a special way of storing and accessing data. \n",
    "- Every programming language has some built-in data structures such as arrays, lists, dictionaries etc.\n",
    "\n",
    "</font>\n",
    "</div>"
   ]
  },
  {
   "cell_type": "markdown",
   "metadata": {
    "slideshow": {
     "slide_type": "slide"
    }
   },
   "source": [
    "<div class=\"alert alert-block alert-info\">\n",
    "<font color='Purple'> \n",
    "\n",
    "## Tuples\n",
    "\n",
    "\n",
    "- Tuples are data structures that are similar to lists in all aspects except in the way they are declared and how much they allow themselves to be modified. \n",
    "- A tuple once created cannot be modified.\n",
    "- As you saw in the previous segment, lists can be changed, and sometimes when you're storing important information in a list and using it somewhere else in your code, you run the risk of accidentally modifying the list and losing data or corrupting it. Tuples help you solve this problem.\n",
    "\n",
    "</font>\n",
    "</div>"
   ]
  },
  {
   "cell_type": "markdown",
   "metadata": {
    "slideshow": {
     "slide_type": "slide"
    }
   },
   "source": [
    "<div class=\"alert alert-block alert-info\">\n",
    "<font color='Purple'> \n",
    "\n",
    "## Dictionaries\n",
    "\n",
    "\n",
    "- The first thing that comes to mind when you hear about dictionaries is the Oxford dictionary, where you can look up meanings of words. \n",
    "- So, you can imagine how dictionaries work. A dictionary is a collection of words along with their meanings or simpler explanations.\n",
    "- At a broader level, you could call a dictionary a mapping of words with their synonyms or meanings.\n",
    "\n",
    "</font>\n",
    "</div>"
   ]
  },
  {
   "cell_type": "markdown",
   "metadata": {
    "slideshow": {
     "slide_type": "slide"
    }
   },
   "source": [
    "<div class=\"alert alert-block alert-info\">\n",
    "<font color='Purple'> \n",
    "\n",
    "## Sets\n",
    "\n",
    "- The last type of data structure we will look at is 'sets'. \n",
    "- Sets are a good way to get the unique elements out of a collection or to find common elements in various collections. \n",
    "- Using sets is quick and can help solve tasks requiring deduplication. \n",
    "\n",
    "</font>\n",
    "</div>"
   ]
  },
  {
   "cell_type": "markdown",
   "metadata": {
    "slideshow": {
     "slide_type": "slide"
    }
   },
   "source": [
    "<div class=\"alert alert-block alert-info\">\n",
    "<font color='Purple'> \n",
    "\n",
    "## If-Elif-Else Conditional Statements \n",
    "\n",
    "</font>\n",
    "</div>"
   ]
  },
  {
   "cell_type": "markdown",
   "metadata": {
    "slideshow": {
     "slide_type": "subslide"
    }
   },
   "source": [
    "`if <condition 1>:\n",
    "    do something\n",
    " else:\n",
    "    do something else`"
   ]
  },
  {
   "cell_type": "markdown",
   "metadata": {
    "slideshow": {
     "slide_type": "subslide"
    }
   },
   "source": [
    "`if <condition 1>:\n",
    "    do something\n",
    " elif <condition 2>:\n",
    "    do something else\n",
    " else:\n",
    "    do something else`"
   ]
  },
  {
   "cell_type": "markdown",
   "metadata": {
    "slideshow": {
     "slide_type": "slide"
    }
   },
   "source": [
    "<div class=\"alert alert-block alert-info\">\n",
    "<font color='Purple'> \n",
    "    \n",
    "## Loops    \n",
    "\n",
    "- Loop is iterating over a sequence data type to a given range. Iterations can be over any collection. \n",
    "- In `string` goes over `each character`\n",
    "- In `lists and tuples,` the iteration goes` over each item`\n",
    "- In `dictionaries,` you can iterate over` both keys and values `or any one of them.\n",
    "- Another keyword — `'enumerate'` — can be used to introduce another iterating variable that counts the iterations. Note that it starts with 0.\n",
    "- Other commands that can be used are `'break', 'continue', `and` 'pass'.` \n",
    "- A` while loop` is used when you aren't sure of the number of iterations you need to have. It should be used when your results depend on the value of a variable.\n",
    "\n",
    "\n",
    "</font>\n",
    "</div>"
   ]
  },
  {
   "cell_type": "markdown",
   "metadata": {
    "slideshow": {
     "slide_type": "slide"
    }
   },
   "source": [
    "<div class=\"alert alert-block alert-info\">\n",
    "<font color='Purple'> \n",
    "\n",
    "## Functions\n",
    "\n",
    "- Functions, as the name suggests, perform a task or function. \n",
    "- They are blocks of code that can be reused at various parts of the code as well as various files. \n",
    "- When you import any package and call any of its methods, you make use of the functions defined in it. \n",
    "- This makes determining the use of each portion of the code significantly easier.\n",
    "\n",
    "- Similar to if-else and the for loop, the parts belonging to a function are indented on it. \n",
    "- There is no need for brackets except for the input parameters that are specified just after the function name.\n",
    "\n",
    "\n",
    "</font>\n",
    "</div>"
   ]
  },
  {
   "cell_type": "markdown",
   "metadata": {
    "slideshow": {
     "slide_type": "subslide"
    }
   },
   "source": [
    "<div class=\"alert alert-block alert-info\">\n",
    "<font color='Purple'> \n",
    "\n",
    "## Lambda\n",
    "\n",
    "Lambda expressions are also another way of defining functions but with a difference. They aren't capable of multiple expressions and can only handle single expressions. The format of lambda statements is as follows:\n",
    "\n",
    "`function_name  = lambda <space>  input_parameters  :  output_parameters`\n",
    "\n",
    "`Eg: join_by_comma = lambda x : ','.join(x)`\n",
    " \n",
    "\n",
    "This will create a function called join by comma and will return a string with each item of the list separated by a comma.\n",
    "\n",
    "\n",
    "</font>\n",
    "</div>"
   ]
  },
  {
   "cell_type": "markdown",
   "metadata": {
    "slideshow": {
     "slide_type": "slide"
    }
   },
   "source": [
    "<div class=\"alert alert-block alert-info\">\n",
    "<font color='Purple'> \n",
    "\n",
    "## Python Object Oriented Programming\n",
    "\n",
    "\n",
    "- One of the popular approach to solve a programming problem is by creating objects. \n",
    "- This is known as Object-Oriented Programming (OOP).\n",
    "- An object has two characteristics:\n",
    "  - attributes\n",
    "  - behavior\n",
    "\n",
    "</font>\n",
    "</div>"
   ]
  },
  {
   "cell_type": "markdown",
   "metadata": {
    "slideshow": {
     "slide_type": "subslide"
    }
   },
   "source": [
    "<div class=\"alert alert-block alert-info\">\n",
    "<font color='Purple'> \n",
    "\n",
    "- Let's take an example: Parrot is an object,\n",
    "  - name, age, color are attributes\n",
    "  - singing, dancing are behavior\n",
    "- The concept of OOP in Python focuses on creating reusable code.\n",
    "\n",
    "</font>\n",
    "</div>"
   ]
  },
  {
   "cell_type": "markdown",
   "metadata": {
    "slideshow": {
     "slide_type": "subslide"
    }
   },
   "source": [
    "<div class=\"alert alert-block alert-info\">\n",
    "<font color='Purple'> \n",
    "\n",
    "- Basic principles of OOP concept\n",
    "- <b>Inheritance</b>\t\n",
    "  - A process of using details from a existing class, to create a new class without modifying existing class.\n",
    "- <b>Encapsulation</b>\t\n",
    "  - Hiding the private details of a class from other objects.\n",
    "- <b>Polymorphism</b>\t\n",
    "  - A concept of using common operation in different ways for different data input.\n",
    "\n",
    "</font>\n",
    "</div>"
   ]
  },
  {
   "cell_type": "markdown",
   "metadata": {
    "slideshow": {
     "slide_type": "subslide"
    }
   },
   "source": [
    "<div class=\"alert alert-block alert-info\">\n",
    "<font color='Purple'> \n",
    "\n",
    "## Building Blocks in OOP\n",
    "### Class\n",
    "\n",
    "- A class is a blueprint for the object.\n",
    "- We can think of class as an sketch of a parrot with labels. \n",
    "- It contains all the details about the name, colors, size etc. \n",
    "- Based on these descriptions, we can study about the parrot. Here, parrot is an object.\n",
    "\n",
    "- The example for class of parrot can be :\n",
    "\n",
    "</font>\n",
    "</div>"
   ]
  },
  {
   "cell_type": "markdown",
   "metadata": {
    "slideshow": {
     "slide_type": "subslide"
    }
   },
   "source": [
    "<div class=\"alert alert-block alert-info\">\n",
    "<font color='Purple'> \n",
    "\n",
    "## Building Blocks in OOP\n",
    "### Class\n",
    "\n",
    "\n",
    "`class Parrot:\n",
    "    pass`\n",
    "    \n",
    "- Here, we use class keyword to define an empty class Parrot. \n",
    "- From class, we construct instances. \n",
    "- An instance is a specific object created from a particular class.\n",
    "\n",
    "</font>\n",
    "</div>"
   ]
  },
  {
   "cell_type": "markdown",
   "metadata": {
    "slideshow": {
     "slide_type": "subslide"
    }
   },
   "source": [
    "<div class=\"alert alert-block alert-info\">\n",
    "<font color='Purple'> \n",
    "\n",
    "### Object\n",
    "\n",
    "- An object (instance) is an instantiation of a class. \n",
    "- When class is defined, only the description for the object is defined. Therefore, no memory or storage is allocated.\n",
    "\n",
    "- The example for object of parrot class can be:\n",
    "\n",
    "`obj = Parrot()`\n",
    "\n",
    "- Here, obj is object of class Parrot.\n",
    "- Suppose we have details of parrot. Now, we are going to show how to build the class and objects of parrot.\n",
    "\n",
    "</font>\n",
    "</div>"
   ]
  },
  {
   "cell_type": "markdown",
   "metadata": {
    "slideshow": {
     "slide_type": "subslide"
    }
   },
   "source": [
    "<div class=\"alert alert-block alert-info\">\n",
    "<font color='Purple'> \n",
    "\n",
    "### Methods\n",
    "- Methods are functions defined inside the body of a class. \n",
    "- They are used to define the behaviors of an object.\n",
    "\n",
    "</font>\n",
    "</div>"
   ]
  },
  {
   "cell_type": "markdown",
   "metadata": {
    "slideshow": {
     "slide_type": "slide"
    }
   },
   "source": [
    "<div class=\"alert alert-block alert-info\">\n",
    "<font color='Purple'> \n",
    "\n",
    "## Errors and Exceptions\n",
    "\n",
    "### Errors\n",
    "\n",
    "`>>> while True print('Hello world')\n",
    "  File \"<stdin>\", line 1\n",
    "    while True print('Hello world')\n",
    "                   ^\n",
    "SyntaxError: invalid syntax`\n",
    "\n",
    "`>>> 10 * (1/0)\n",
    "Traceback (most recent call last):\n",
    "  File \"<stdin>\", line 1, in <module>\n",
    "ZeroDivisionError: division by zero`\n",
    "\n",
    "`>>> 4 + spam*3\n",
    "Traceback (most recent call last):\n",
    "  File \"<stdin>\", line 1, in <module>\n",
    "NameError: name 'spam' is not defined`\n",
    "\n",
    "`>>> '2' + 2\n",
    "Traceback (most recent call last):\n",
    "  File \"<stdin>\", line 1, in <module>\n",
    "TypeError: Can't convert 'int' object to str implicitly`\n",
    "\n",
    "\n",
    "\n",
    "\n",
    "\n",
    "</font>\n",
    "</div>"
   ]
  },
  {
   "cell_type": "markdown",
   "metadata": {
    "slideshow": {
     "slide_type": "slide"
    }
   },
   "source": [
    "<div class=\"alert alert-block alert-info\">\n",
    "<font color='Purple'> \n",
    "\n",
    "## Handling Exceptions\n",
    "\n",
    "`try:\n",
    "     x = int(input(\"Please enter a number: \"))\n",
    "     break\n",
    "except ValueError:\n",
    "     print(\"Oops!  That was no valid number.  Try again...\")`\n",
    "\n",
    "\n",
    "- The try statement works as follows.\n",
    "\n",
    "- First, the try clause (the statement(s) between the try and except keywords) is executed.\n",
    "\n",
    "- If no exception occurs, the except clause is skipped and execution of the try statement is finished.\n",
    "\n",
    "- If an exception occurs during execution of the try clause, the rest of the clause is skipped.\n",
    "- Then if its type matches the exception named after the except keyword, the except clause is executed, and then execution continues after the try statement.\n",
    "\n",
    "- If an exception occurs which does not match the exception named in the except clause, it is passed on to outer try statements; if no handler is found, it is an unhandled exception and execution stops with a message as shown above.\n",
    "\n",
    "</font>\n",
    "</div>"
   ]
  },
  {
   "cell_type": "markdown",
   "metadata": {
    "slideshow": {
     "slide_type": "slide"
    }
   },
   "source": [
    "<div class=\"alert alert-block alert-info\">\n",
    "<font color='Purple'> \n",
    "\n",
    "## Q and A\n",
    "\n",
    "</font>\n",
    "</div>"
   ]
  }
 ],
 "metadata": {
  "celltoolbar": "Slideshow",
  "kernelspec": {
   "display_name": "Python 3",
   "language": "python",
   "name": "python3"
  },
  "language_info": {
   "codemirror_mode": {
    "name": "ipython",
    "version": 3
   },
   "file_extension": ".py",
   "mimetype": "text/x-python",
   "name": "python",
   "nbconvert_exporter": "python",
   "pygments_lexer": "ipython3",
   "version": "3.7.0"
  }
 },
 "nbformat": 4,
 "nbformat_minor": 2
}
